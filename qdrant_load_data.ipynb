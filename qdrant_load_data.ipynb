{
 "cells": [
  {
   "cell_type": "code",
   "execution_count": 7,
   "id": "3d734b94",
   "metadata": {},
   "outputs": [],
   "source": [
    "import pandas as pd\n",
    "import os\n",
    "from qdrant_client import QdrantClient, models\n",
    "from langchain_google_genai import GoogleGenerativeAIEmbeddings\n",
    "from tqdm.auto import tqdm # Para barras de progresso visuais\n",
    "from dotenv import load_dotenv\n",
    "load_dotenv(dotenv_path=\".env\")\n",
    "\n",
    "\n",
    "QDRANT_URL = os.getenv(\"QDRANT_URL\")\n",
    "QDRANT_API_KEY = os.getenv(\"QDRANT_API_KEY\")\n",
    "GOOGLE_API_KEY = os.getenv(\"GOOGLE_API_KEY\")\n",
    "COLLECTION_NAME = \"med_chat\" # Novo nome de coleção para evitar conflitos\n",
    "CSV_FILE_PATH = \"C:\\\\Users\\\\drmar\\\\OneDrive\\\\Documentos\\\\code\\\\adk\\\\Triagem_Bot\\\\data\\\\mtsamples.csv\"\n",
    "TEXT_COLUMN_TO_EMBED = \"descricao\" # A coluna que será transformada em vetor\n"
   ]
  },
  {
   "cell_type": "code",
   "execution_count": 2,
   "id": "571441c1",
   "metadata": {},
   "outputs": [
    {
     "name": "stdout",
     "output_type": "stream",
     "text": [
      "Inicializando o modelo de embedding do Google...\n",
      "O modelo 'embedding-001' gera vetores de dimensão: 768\n"
     ]
    }
   ],
   "source": [
    "client = QdrantClient(url=QDRANT_URL, api_key=QDRANT_API_KEY)\n",
    "\n",
    "# Inicializa o modelo de embedding do Google via LangChain\n",
    "print(\"Inicializando o modelo de embedding do Google...\")\n",
    "embeddings = GoogleGenerativeAIEmbeddings(model=\"models/embedding-001\", google_api_key=GOOGLE_API_KEY)\n",
    "\n",
    "# O modelo 'embedding-001' do Google gera vetores de 768 dimensões.\n",
    "vector_size = 768\n",
    "print(f\"O modelo 'embedding-001' gera vetores de dimensão: {vector_size}\")\n",
    "\n"
   ]
  },
  {
   "cell_type": "code",
   "execution_count": null,
   "id": "39a19f8e",
   "metadata": {},
   "outputs": [],
   "source": [
    "print(f\"Criando a coleção '{COLLECTION_NAME}'...\")\n",
    "try:\n",
    "    client.recreate_collection(\n",
    "        collection_name=COLLECTION_NAME,\n",
    "        vectors_config=models.VectorParams(size=vector_size, distance=models.Distance.COSINE),\n",
    "    )\n",
    "    print(\"Coleção criada com sucesso!\")\n",
    "except Exception as e:\n",
    "    print(f\"A coleção já existe ou ocorreu um erro: {e}\")"
   ]
  },
  {
   "cell_type": "code",
   "execution_count": null,
   "id": "fd935128",
   "metadata": {},
   "outputs": [],
   "source": [
    "# --- PASSO 3: LER O CSV, GERAR EMBEDDINGS E FAZER O UPLOAD ---\n",
    "\n",
    "print(\"Lendo o arquivo CSV...\")\n",
    "df = pd.read_csv(CSV_FILE_PATH)\n",
    "\n",
    "# Extrai a coluna de texto para gerar os embeddings em lote\n",
    "texts_to_embed = df[TEXT_COLUMN_TO_EMBED].tolist()\n",
    "print(f\"Gerando embeddings para {len(texts_to_embed)} textos. Isso pode levar um momento...\")\n",
    "\n",
    "# Gera todos os embeddings de uma vez (mais eficiente)\n",
    "vectors = embeddings.embed_documents(texts_to_embed)\n",
    "print(\"Embeddings gerados com sucesso!\")\n",
    "\n",
    "# Converte o DataFrame para uma lista de dicionários para o payload\n",
    "payloads = df.to_dict('records')\n",
    "# Extrai os IDs para os pontos do Qdrant\n",
    "ids = df['id_produto'].tolist()\n",
    "\n",
    "# Faz o upload dos pontos para o Qdrant\n",
    "print(\"Fazendo upload dos pontos para o Qdrant...\")\n",
    "client.upload_points(\n",
    "    collection_name=COLLECTION_NAME,\n",
    "    points=[\n",
    "        models.PointStruct(\n",
    "            id=ids[i],\n",
    "            vector=vectors[i],\n",
    "            payload=payloads[i]\n",
    "        )\n",
    "        for i in range(len(ids))\n",
    "    ],\n",
    "    wait=True # Espera a operação ser concluída\n",
    ")\n",
    "\n",
    "print(\"Processo concluído!\")\n",
    "status_colecao = client.get_collection(collection_name=COLLECTION_NAME)\n",
    "print(f\"Total de pontos na coleção: {status_colecao.points_count}\")\n"
   ]
  },
  {
   "cell_type": "code",
   "execution_count": null,
   "id": "b3742735",
   "metadata": {},
   "outputs": [],
   "source": [
    "\n",
    "# --- PASSO 4: TESTE DE BUSCA ---\n",
    "\n",
    "print(\"\\n--- Testando a busca semântica ---\")\n",
    "query_text = \"um bom fone para reuniões\"\n",
    "\n",
    "# Usa embed_query para um único texto de busca\n",
    "query_vector = embeddings.embed_query(query_text)\n",
    "\n",
    "# Realiza a busca na coleção\n",
    "search_results = client.search(\n",
    "    collection_name=COLLECTION_NAME,\n",
    "    query_vector=query_vector,\n",
    "    limit=3, # Retorna os 3 resultados mais similares\n",
    ")\n",
    "\n",
    "print(f\"\\nResultados da Busca por: '{query_text}'\\n\")\n",
    "for result in search_results:\n",
    "    print(f\"ID do Produto: {result.id}\")\n",
    "    print(f\"Score de Similaridade: {result.score:.4f}\")\n",
    "    print(f\"Payload: {result.payload}\")\n",
    "    print(\"-\" * 20)"
   ]
  }
 ],
 "metadata": {
  "kernelspec": {
   "display_name": "venv",
   "language": "python",
   "name": "python3"
  },
  "language_info": {
   "codemirror_mode": {
    "name": "ipython",
    "version": 3
   },
   "file_extension": ".py",
   "mimetype": "text/x-python",
   "name": "python",
   "nbconvert_exporter": "python",
   "pygments_lexer": "ipython3",
   "version": "3.13.3"
  }
 },
 "nbformat": 4,
 "nbformat_minor": 5
}
